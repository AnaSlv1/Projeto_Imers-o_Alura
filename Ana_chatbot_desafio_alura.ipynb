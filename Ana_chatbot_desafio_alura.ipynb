{
  "nbformat": 4,
  "nbformat_minor": 0,
  "metadata": {
    "colab": {
      "provenance": [],
      "authorship_tag": "ABX9TyMRYA+g+3xcf0LBPajO7eRs",
      "include_colab_link": true
    },
    "kernelspec": {
      "name": "python3",
      "display_name": "Python 3"
    },
    "language_info": {
      "name": "python"
    }
  },
  "cells": [
    {
      "cell_type": "markdown",
      "metadata": {
        "id": "view-in-github",
        "colab_type": "text"
      },
      "source": [
        "<a href=\"https://colab.research.google.com/github/AnaSlv1/Projeto_Imers-o_Alura/blob/main/Ana_chatbot_desafio_alura.ipynb\" target=\"_parent\"><img src=\"https://colab.research.google.com/assets/colab-badge.svg\" alt=\"Open In Colab\"/></a>"
      ]
    },
    {
      "cell_type": "markdown",
      "source": [
        "Instalando o SDK do google:Um kit de desenvolvimento de software"
      ],
      "metadata": {
        "id": "adP2TmcvNvVg"
      }
    },
    {
      "cell_type": "code",
      "execution_count": null,
      "metadata": {
        "id": "6ixdQD3UM1oV"
      },
      "outputs": [],
      "source": [
        "!pip install -q -U google-generativeai\n",
        "\n"
      ]
    },
    {
      "cell_type": "code",
      "source": [
        "import google.generativeai as genai\n",
        "from google.colab import userdata\n",
        "api_key = userdata.get('SECRET_KEY')\n",
        "genai.configure(api_key=api_key)"
      ],
      "metadata": {
        "id": "541zNrf4QG-r"
      },
      "execution_count": 49,
      "outputs": []
    },
    {
      "cell_type": "markdown",
      "source": [
        "Listar os modelos disponíveis"
      ],
      "metadata": {
        "id": "GFCD8DvQQsBR"
      }
    },
    {
      "cell_type": "code",
      "source": [
        "for m in genai.list_models():\n",
        "  if 'generateContent' in m.supported_generation_methods:\n",
        "    print(m.name)"
      ],
      "metadata": {
        "colab": {
          "base_uri": "https://localhost:8080/",
          "height": 139
        },
        "id": "jfF9fF2vRDgX",
        "outputId": "0e48a92f-00ee-40d1-c2e1-ab9f1ad7797d"
      },
      "execution_count": null,
      "outputs": [
        {
          "output_type": "stream",
          "name": "stdout",
          "text": [
            "models/gemini-1.0-pro\n",
            "models/gemini-1.0-pro-001\n",
            "models/gemini-1.0-pro-latest\n",
            "models/gemini-1.0-pro-vision-latest\n",
            "models/gemini-1.5-pro-latest\n",
            "models/gemini-pro\n",
            "models/gemini-pro-vision\n"
          ]
        }
      ]
    },
    {
      "cell_type": "markdown",
      "source": [
        "AJUSTANDO PARAMETROS DE NIVEIS DE INTENSIDADE DOS CONTEUDOS DE REPOSTA DO CHATBOT"
      ],
      "metadata": {
        "id": "wzSAQ89-ZN67"
      }
    },
    {
      "cell_type": "code",
      "source": [
        "generation_config = {\n",
        "    \"candidate_count\": 1,\n",
        "    \"temperature\": 0.5,\n",
        "}"
      ],
      "metadata": {
        "id": "5Ro8aP_XV_hl"
      },
      "execution_count": null,
      "outputs": []
    },
    {
      "cell_type": "code",
      "source": [
        "safety_settings = {\n",
        "    \"HARASSMENT\": \"BLOKE NONE\",\n",
        "    \"HATE\": \"BLOKE NONE\",\n",
        "    \"SEXUAL \": \"BLOKE NONE\",\n",
        "    \"DANGEROUS \": \"BLOKE NONE\",\n",
        "\n",
        "}"
      ],
      "metadata": {
        "id": "1uqHit-WW_8L"
      },
      "execution_count": null,
      "outputs": []
    },
    {
      "cell_type": "markdown",
      "source": [
        "INICIALIZANDO O MODELO\n"
      ],
      "metadata": {
        "id": "Qi3VhjKcaNIG"
      }
    },
    {
      "cell_type": "code",
      "source": [
        " model = genai.GenerativeModel(model_name=\"gemini-1.0-pro\",\n",
        "                               generation_config=generation_config)\n"
      ],
      "metadata": {
        "id": "DWa8f_XGapbA"
      },
      "execution_count": null,
      "outputs": []
    },
    {
      "cell_type": "code",
      "source": [
        "response = model.generate_content(\"aprender a falar italiano cronograma de estudos.\")\n",
        "print(response.text)"
      ],
      "metadata": {
        "colab": {
          "base_uri": "https://localhost:8080/",
          "height": 1000
        },
        "id": "BUfbuU4ccrNN",
        "outputId": "947a2866-2a1b-474f-af8a-98abe4e40d28"
      },
      "execution_count": null,
      "outputs": [
        {
          "output_type": "stream",
          "name": "stdout",
          "text": [
            "**Cronograma de Estudos para Aprender Italiano**\n",
            "\n",
            "**Mês 1**\n",
            "\n",
            "* Introdução ao alfabeto italiano e pronúncia\n",
            "* Vocabulário básico: saudações, números, dias da semana\n",
            "* Frases simples: apresentações, perguntas básicas\n",
            "\n",
            "**Mês 2**\n",
            "\n",
            "* Verbos regulares no presente do indicativo\n",
            "* Vocabulário: família, comida, lugares\n",
            "* Frases mais complexas: falar sobre gostos e desgostos\n",
            "\n",
            "**Mês 3**\n",
            "\n",
            "* Verbos irregulares no presente do indicativo\n",
            "* Vocabulário: compras, viagens, saúde\n",
            "* Conversas curtas sobre tópicos cotidianos\n",
            "\n",
            "**Mês 4**\n",
            "\n",
            "* Passado próximo\n",
            "* Vocabulário: trabalho, escola, lazer\n",
            "* Compreensão de textos simples\n",
            "\n",
            "**Mês 5**\n",
            "\n",
            "* Futuro próximo\n",
            "* Vocabulário: notícias, política, cultura\n",
            "* Diálogos mais longos e complexos\n",
            "\n",
            "**Mês 6**\n",
            "\n",
            "* Condicional presente\n",
            "* Vocabulário: meio ambiente, tecnologia, sociedade\n",
            "* Escrita de textos curtos\n",
            "\n",
            "**Mês 7**\n",
            "\n",
            "* Condicional passado\n",
            "* Vocabulário: história, arte, literatura\n",
            "* Leitura de textos mais longos\n",
            "\n",
            "**Mês 8**\n",
            "\n",
            "* Subjuntivo presente\n",
            "* Vocabulário: ciência, negócios, direito\n",
            "* Discussões sobre tópicos diversos\n",
            "\n",
            "**Mês 9**\n",
            "\n",
            "* Subjuntivo passado\n",
            "* Vocabulário: filosofia, psicologia, sociologia\n",
            "* Apresentações orais\n",
            "\n",
            "**Mês 10**\n",
            "\n",
            "* Revisão geral\n",
            "* Vocabulário avançado\n",
            "* Análise de textos complexos\n",
            "\n",
            "**Mês 11**\n",
            "\n",
            "* Conversação fluente\n",
            "* Compreensão nativa de textos escritos e falados\n",
            "* Escrita acadêmica\n",
            "\n",
            "**Mês 12**\n",
            "\n",
            "* Manutenção e aprimoramento\n",
            "* Leitura de literatura italiana\n",
            "* Participação em eventos culturais italianos\n",
            "\n",
            "**Observações:**\n",
            "\n",
            "* Este cronograma é apenas uma sugestão e pode ser ajustado de acordo com o ritmo de aprendizado individual.\n",
            "* É importante dedicar tempo diário ao estudo, mesmo que seja apenas por 30 minutos.\n",
            "* A imersão na cultura italiana, como assistir a filmes, ouvir música e ler livros, pode acelerar o processo de aprendizado.\n",
            "* A prática regular da fala e da escrita é essencial para o progresso.\n"
          ]
        }
      ]
    },
    {
      "cell_type": "markdown",
      "source": [
        "testando o prompt do chat"
      ],
      "metadata": {
        "id": "Qt0WGCxMmrRi"
      }
    },
    {
      "cell_type": "code",
      "source": [
        "chat = model.start_chat(history=[])"
      ],
      "metadata": {
        "id": "39zOB3PJdkWu"
      },
      "execution_count": null,
      "outputs": []
    },
    {
      "cell_type": "code",
      "source": [
        "prompt = input(\"esperando prompt:\")\n",
        "while prompt !=\"fim\":\n",
        "  response = chat.send_message(prompt)\n",
        "  print(\"Resposta:\", response.text, \"\\n\")\n",
        "  prompt = input(\"esperando prompt:\")\n",
        "\n"
      ],
      "metadata": {
        "colab": {
          "base_uri": "https://localhost:8080/"
        },
        "id": "ENPq62HNeK-b",
        "outputId": "757aaa1e-6f71-455d-a4e2-12f4d3a707d0"
      },
      "execution_count": null,
      "outputs": [
        {
          "name": "stdout",
          "output_type": "stream",
          "text": [
            "esperando prompt:fim\n"
          ]
        }
      ]
    },
    {
      "cell_type": "code",
      "source": [
        "#Melhorando a visualização\n",
        "#Código disponível em https://ai.google.dev/tutorials/python_quickstart#import_packages\n",
        "import textwrap\n",
        "from IPython.display import display\n",
        "from IPython.display import Markdown\n",
        "\n",
        "def to_markdown(text):\n",
        "  text = text.replace('•', '  *')\n",
        "  return Markdown(textwrap.indent(text, '> ', predicate=lambda _: True))\n",
        "\n",
        "#Imprimindo o histórico\n",
        "for message in chat.history:\n",
        "  display(to_markdown(f'**{message.role}**: {message.parts[0].text}'))\n",
        "  print('-------------------------------------------')"
      ],
      "metadata": {
        "colab": {
          "base_uri": "https://localhost:8080/",
          "height": 804
        },
        "id": "yDVLKs3HsP6O",
        "outputId": "9ac5061d-9dd9-4629-bba5-890830c29931"
      },
      "execution_count": null,
      "outputs": [
        {
          "output_type": "display_data",
          "data": {
            "text/plain": [
              "<IPython.core.display.Markdown object>"
            ],
            "text/markdown": "> **user**: qual é a capital do japão"
          },
          "metadata": {}
        },
        {
          "output_type": "stream",
          "name": "stdout",
          "text": [
            "-------------------------------------------\n"
          ]
        },
        {
          "output_type": "display_data",
          "data": {
            "text/plain": [
              "<IPython.core.display.Markdown object>"
            ],
            "text/markdown": "> **model**: Tóquio"
          },
          "metadata": {}
        },
        {
          "output_type": "stream",
          "name": "stdout",
          "text": [
            "-------------------------------------------\n"
          ]
        },
        {
          "output_type": "display_data",
          "data": {
            "text/plain": [
              "<IPython.core.display.Markdown object>"
            ],
            "text/markdown": "> **user**: qual é a comida tipica desse páis?"
          },
          "metadata": {}
        },
        {
          "output_type": "stream",
          "name": "stdout",
          "text": [
            "-------------------------------------------\n"
          ]
        },
        {
          "output_type": "display_data",
          "data": {
            "text/plain": [
              "<IPython.core.display.Markdown object>"
            ],
            "text/markdown": "> **model**: Sushi"
          },
          "metadata": {}
        },
        {
          "output_type": "stream",
          "name": "stdout",
          "text": [
            "-------------------------------------------\n"
          ]
        },
        {
          "output_type": "display_data",
          "data": {
            "text/plain": [
              "<IPython.core.display.Markdown object>"
            ],
            "text/markdown": "> **user**: o meu primo nasceu nessa cidade. Qual é a nacionalidade dele?"
          },
          "metadata": {}
        },
        {
          "output_type": "stream",
          "name": "stdout",
          "text": [
            "-------------------------------------------\n"
          ]
        },
        {
          "output_type": "display_data",
          "data": {
            "text/plain": [
              "<IPython.core.display.Markdown object>"
            ],
            "text/markdown": "> **model**: Japonesa"
          },
          "metadata": {}
        },
        {
          "output_type": "stream",
          "name": "stdout",
          "text": [
            "-------------------------------------------\n"
          ]
        },
        {
          "output_type": "display_data",
          "data": {
            "text/plain": [
              "<IPython.core.display.Markdown object>"
            ],
            "text/markdown": "> **user**: qual é a população dessa cidade?"
          },
          "metadata": {}
        },
        {
          "output_type": "stream",
          "name": "stdout",
          "text": [
            "-------------------------------------------\n"
          ]
        },
        {
          "output_type": "display_data",
          "data": {
            "text/plain": [
              "<IPython.core.display.Markdown object>"
            ],
            "text/markdown": "> **model**: 13.960.236 (2023)"
          },
          "metadata": {}
        },
        {
          "output_type": "stream",
          "name": "stdout",
          "text": [
            "-------------------------------------------\n"
          ]
        },
        {
          "output_type": "display_data",
          "data": {
            "text/plain": [
              "<IPython.core.display.Markdown object>"
            ],
            "text/markdown": "> **user**: tem certeza?"
          },
          "metadata": {}
        },
        {
          "output_type": "stream",
          "name": "stdout",
          "text": [
            "-------------------------------------------\n"
          ]
        },
        {
          "output_type": "display_data",
          "data": {
            "text/plain": [
              "<IPython.core.display.Markdown object>"
            ],
            "text/markdown": "> **model**: Sim, tenho certeza de que a população de Tóquio em 2023 é de 13.960.236. Esta informação é baseada nos dados mais recentes do Instituto Nacional de Pesquisa Populacional e Segurança Social do Japão."
          },
          "metadata": {}
        },
        {
          "output_type": "stream",
          "name": "stdout",
          "text": [
            "-------------------------------------------\n"
          ]
        },
        {
          "output_type": "display_data",
          "data": {
            "text/plain": [
              "<IPython.core.display.Markdown object>"
            ],
            "text/markdown": "> **user**: e qual a população metroplitana ?"
          },
          "metadata": {}
        },
        {
          "output_type": "stream",
          "name": "stdout",
          "text": [
            "-------------------------------------------\n"
          ]
        },
        {
          "output_type": "display_data",
          "data": {
            "text/plain": [
              "<IPython.core.display.Markdown object>"
            ],
            "text/markdown": "> **model**: A população da área metropolitana de Tóquio em 2023 é estimada em **37.339.804**. Esta área metropolitana inclui a prefeitura de Tóquio e as prefeituras vizinhas de Saitama, Chiba e Kanagawa. É a área metropolitana mais populosa do mundo."
          },
          "metadata": {}
        },
        {
          "output_type": "stream",
          "name": "stdout",
          "text": [
            "-------------------------------------------\n"
          ]
        }
      ]
    }
  ]
}